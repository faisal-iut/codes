{
  "nbformat": 4,
  "nbformat_minor": 0,
  "metadata": {
    "kernelspec": {
      "display_name": "Python 3",
      "language": "python",
      "name": "python3"
    },
    "language_info": {
      "codemirror_mode": {
        "name": "ipython",
        "version": 3
      },
      "file_extension": ".py",
      "mimetype": "text/x-python",
      "name": "python",
      "nbconvert_exporter": "python",
      "pygments_lexer": "ipython3",
      "version": "3.7.6"
    },
    "colab": {
      "name": "credit_risk.ipynb",
      "provenance": [],
      "include_colab_link": true
    },
    "accelerator": "TPU"
  },
  "cells": [
    {
      "cell_type": "markdown",
      "metadata": {
        "id": "view-in-github",
        "colab_type": "text"
      },
      "source": [
        "<a href=\"https://colab.research.google.com/github/ffaisal93/codes/blob/master/credit_risk.ipynb\" target=\"_parent\"><img src=\"https://colab.research.google.com/assets/colab-badge.svg\" alt=\"Open In Colab\"/></a>"
      ]
    },
    {
      "cell_type": "code",
      "metadata": {
        "id": "H5IrIn1xi2lw",
        "outputId": "bf4fab1a-dfa2-4431-baa9-9c4d25bd8a5b",
        "colab": {
          "base_uri": "https://localhost:8080/",
          "height": 105
        }
      },
      "source": [
        "import os\n",
        "import pandas as pd\n",
        "import re\n",
        "from bs4 import BeautifulSoup\n",
        "from nltk.corpus import stopwords\n",
        "from nltk.stem import WordNetLemmatizer\n",
        "from sklearn.feature_extraction.text import TfidfVectorizer\n",
        "from sklearn.feature_selection import VarianceThreshold\n",
        "from sklearn.model_selection import train_test_split\n",
        "import spacy\n",
        "import pickle\n",
        "import numpy as np\n",
        "from scipy import sparse\n",
        "from sklearn.preprocessing import MinMaxScaler\n",
        "from sklearn.model_selection import KFold\n",
        "from sklearn.metrics import classification_report, confusion_matrix,accuracy_score, f1_score\n",
        "from sklearn.metrics import accuracy_score, roc_auc_score, roc_curve\n",
        "from sklearn.svm import SVC\n",
        "from sklearn.model_selection import cross_validate, GridSearchCV\n",
        "from sklearn.externals import joblib\n",
        "\n",
        "############ Import pyplot from matplotlib as plt\n",
        "import matplotlib.pyplot as plt\n",
        "%matplotlib inline\n",
        "# Import Seaborn\n",
        "import seaborn as sns\n",
        "\n",
        "import warnings \n",
        "warnings.filterwarnings('ignore')\n",
        "%reload_ext autoreload\n",
        "%autoreload 2"
      ],
      "execution_count": 1,
      "outputs": [
        {
          "output_type": "stream",
          "text": [
            "/usr/local/lib/python3.6/dist-packages/sklearn/externals/joblib/__init__.py:15: FutureWarning: sklearn.externals.joblib is deprecated in 0.21 and will be removed in 0.23. Please import this functionality directly from joblib, which can be installed with: pip install joblib. If this warning is raised when loading pickled models, you may need to re-serialize those models with scikit-learn 0.21+.\n",
            "  warnings.warn(msg, category=FutureWarning)\n",
            "/usr/local/lib/python3.6/dist-packages/statsmodels/tools/_testing.py:19: FutureWarning: pandas.util.testing is deprecated. Use the functions in the public API at pandas.testing instead.\n",
            "  import pandas.util.testing as tm\n"
          ],
          "name": "stderr"
        }
      ]
    },
    {
      "cell_type": "code",
      "metadata": {
        "id": "p53Yo3yai9Mp"
      },
      "source": [
        "!pip install -U -q PyDrive\n",
        "from pydrive.auth import GoogleAuth\n",
        "from pydrive.drive import GoogleDrive\n",
        "from google.colab import auth\n",
        "from oauth2client.client import GoogleCredentials\n",
        "# Authenticate and create the PyDrive client.\n",
        "auth.authenticate_user()\n",
        "gauth = GoogleAuth()\n",
        "gauth.credentials = GoogleCredentials.get_application_default()\n",
        "drive = GoogleDrive(gauth)"
      ],
      "execution_count": 2,
      "outputs": []
    },
    {
      "cell_type": "code",
      "metadata": {
        "id": "BmlLvY79jOEW"
      },
      "source": [
        "# The shareable data link\n",
        "train_link = 'https://drive.google.com/file/d/1Cvmg9flVaJXPLOWoehPtbpBY2lWjPYyK/view?usp=sharing'\n",
        "test_link = 'https://drive.google.com/file/d/1EAj4ZQtI5aY-klEZ82my6bIOMMbDtRci/view?usp=sharing'"
      ],
      "execution_count": 3,
      "outputs": []
    },
    {
      "cell_type": "code",
      "metadata": {
        "id": "pzX43FSDjorR"
      },
      "source": [
        "# function to upload the training and testing file from the drive\n",
        "def link_open(link,filename):\n",
        "  # getting the file key portion. \n",
        "  # eg. 1OA-r-ZOAUsYdK1kgcWP50hSr8BDqj6Fn from https://drive.google.com/file/d/1OA-r-ZOAUsYdK1kgcWP50hSr8BDqj6Fn/view?usp=sharing\n",
        "  id = link.split('/')\n",
        "  print (id[5]) \n",
        "  downloaded = drive.CreateFile({'id':id[5]}) \n",
        "  downloaded.GetContentFile(filename+'.csv')  \n",
        "  df3 = pd.read_csv(filename+'.csv')\n",
        "  # Dataset is now stored in a Pandas Dataframe\n",
        "  return df3"
      ],
      "execution_count": 6,
      "outputs": []
    },
    {
      "cell_type": "code",
      "metadata": {
        "id": "u7oq0J66jwoP",
        "outputId": "cd4c9d3b-af43-4c29-a7d0-d5543060f569",
        "colab": {
          "base_uri": "https://localhost:8080/",
          "height": 51
        }
      },
      "source": [
        "train_df = link_open(train_link, '1600106342_882043_train')\n",
        "test_df = link_open(test_link, '1600106342_8864183_test')"
      ],
      "execution_count": 10,
      "outputs": [
        {
          "output_type": "stream",
          "text": [
            "1Cvmg9flVaJXPLOWoehPtbpBY2lWjPYyK\n",
            "1EAj4ZQtI5aY-klEZ82my6bIOMMbDtRci\n"
          ],
          "name": "stdout"
        }
      ]
    },
    {
      "cell_type": "code",
      "metadata": {
        "id": "7PC4m0q8i2l0"
      },
      "source": [
        "# path = '../hw2/data'\n",
        "# TRAINFILE = '1600106342_882043_train.csv'\n",
        "# TESTFILE = '1600106342_8864183_test.csv'"
      ],
      "execution_count": 11,
      "outputs": []
    },
    {
      "cell_type": "code",
      "metadata": {
        "id": "KazecUNti2l5"
      },
      "source": [
        "# train_df = pd.read_csv(os.path.join(path, TRAINFILE), sep=\",\", header=0)\n",
        "# test_df = pd.read_csv(os.path.join(path, TESTFILE), sep=\",\", header=0)"
      ],
      "execution_count": 12,
      "outputs": []
    },
    {
      "cell_type": "markdown",
      "metadata": {
        "id": "_qnu_a93i2l-"
      },
      "source": [
        "    id - unique identifier\n",
        "    F1 - Continuous value describing number of years since last degree was completed\n",
        "    F2 - Continuous value indicating hours worked per week\n",
        "    F3 - Categorical Value\n",
        "    F4 - Categorical Value indicating type of occupation\n",
        "    F5 - continuous value denoting gains\n",
        "    F6 - continuous value denoting loss\n",
        "    F7 - Categorical value denoting marital status\n",
        "    F8 - Categorical value denoting type of employment (e.g., Self)\n",
        "    F9 - Categorical Value denoting education type\n",
        "    F10 - Categorical Value denoting different race\n",
        "    F11 - Categorical - Female/Male\n",
        "    credit - 0: Bad, 1: Good"
      ]
    },
    {
      "cell_type": "code",
      "metadata": {
        "id": "DudkFUyhi2l-",
        "outputId": "83810041-d5a4-46dd-c4b9-5394703ddd65",
        "colab": {
          "base_uri": "https://localhost:8080/",
          "height": 204
        }
      },
      "source": [
        "train_df.head(5)"
      ],
      "execution_count": 13,
      "outputs": [
        {
          "output_type": "execute_result",
          "data": {
            "text/html": [
              "<div>\n",
              "<style scoped>\n",
              "    .dataframe tbody tr th:only-of-type {\n",
              "        vertical-align: middle;\n",
              "    }\n",
              "\n",
              "    .dataframe tbody tr th {\n",
              "        vertical-align: top;\n",
              "    }\n",
              "\n",
              "    .dataframe thead th {\n",
              "        text-align: right;\n",
              "    }\n",
              "</style>\n",
              "<table border=\"1\" class=\"dataframe\">\n",
              "  <thead>\n",
              "    <tr style=\"text-align: right;\">\n",
              "      <th></th>\n",
              "      <th>id</th>\n",
              "      <th>F1</th>\n",
              "      <th>F2</th>\n",
              "      <th>F3</th>\n",
              "      <th>F4</th>\n",
              "      <th>F5</th>\n",
              "      <th>F6</th>\n",
              "      <th>F7</th>\n",
              "      <th>F8</th>\n",
              "      <th>F9</th>\n",
              "      <th>F10</th>\n",
              "      <th>F11</th>\n",
              "      <th>credit</th>\n",
              "    </tr>\n",
              "  </thead>\n",
              "  <tbody>\n",
              "    <tr>\n",
              "      <th>0</th>\n",
              "      <td>0</td>\n",
              "      <td>13</td>\n",
              "      <td>40</td>\n",
              "      <td>1</td>\n",
              "      <td>1</td>\n",
              "      <td>2174</td>\n",
              "      <td>0</td>\n",
              "      <td>4</td>\n",
              "      <td>7</td>\n",
              "      <td>9</td>\n",
              "      <td>White</td>\n",
              "      <td>Male</td>\n",
              "      <td>0</td>\n",
              "    </tr>\n",
              "    <tr>\n",
              "      <th>1</th>\n",
              "      <td>1</td>\n",
              "      <td>13</td>\n",
              "      <td>13</td>\n",
              "      <td>0</td>\n",
              "      <td>4</td>\n",
              "      <td>0</td>\n",
              "      <td>0</td>\n",
              "      <td>2</td>\n",
              "      <td>6</td>\n",
              "      <td>9</td>\n",
              "      <td>White</td>\n",
              "      <td>Male</td>\n",
              "      <td>0</td>\n",
              "    </tr>\n",
              "    <tr>\n",
              "      <th>2</th>\n",
              "      <td>2</td>\n",
              "      <td>9</td>\n",
              "      <td>40</td>\n",
              "      <td>1</td>\n",
              "      <td>6</td>\n",
              "      <td>0</td>\n",
              "      <td>0</td>\n",
              "      <td>0</td>\n",
              "      <td>4</td>\n",
              "      <td>11</td>\n",
              "      <td>White</td>\n",
              "      <td>Male</td>\n",
              "      <td>0</td>\n",
              "    </tr>\n",
              "    <tr>\n",
              "      <th>3</th>\n",
              "      <td>3</td>\n",
              "      <td>7</td>\n",
              "      <td>40</td>\n",
              "      <td>0</td>\n",
              "      <td>6</td>\n",
              "      <td>0</td>\n",
              "      <td>0</td>\n",
              "      <td>2</td>\n",
              "      <td>4</td>\n",
              "      <td>1</td>\n",
              "      <td>Black</td>\n",
              "      <td>Male</td>\n",
              "      <td>0</td>\n",
              "    </tr>\n",
              "    <tr>\n",
              "      <th>4</th>\n",
              "      <td>4</td>\n",
              "      <td>13</td>\n",
              "      <td>40</td>\n",
              "      <td>5</td>\n",
              "      <td>10</td>\n",
              "      <td>0</td>\n",
              "      <td>0</td>\n",
              "      <td>2</td>\n",
              "      <td>4</td>\n",
              "      <td>9</td>\n",
              "      <td>Black</td>\n",
              "      <td>Female</td>\n",
              "      <td>0</td>\n",
              "    </tr>\n",
              "  </tbody>\n",
              "</table>\n",
              "</div>"
            ],
            "text/plain": [
              "   id  F1  F2  F3  F4    F5  F6  F7  F8  F9     F10      F11  credit\n",
              "0   0  13  40   1   1  2174   0   4   7   9   White     Male       0\n",
              "1   1  13  13   0   4     0   0   2   6   9   White     Male       0\n",
              "2   2   9  40   1   6     0   0   0   4  11   White     Male       0\n",
              "3   3   7  40   0   6     0   0   2   4   1   Black     Male       0\n",
              "4   4  13  40   5  10     0   0   2   4   9   Black   Female       0"
            ]
          },
          "metadata": {
            "tags": []
          },
          "execution_count": 13
        }
      ]
    },
    {
      "cell_type": "code",
      "metadata": {
        "id": "aVCLtyRVi2mC",
        "outputId": "983e84e0-b3e2-4c70-fa1e-5670ab3ec89c",
        "colab": {
          "base_uri": "https://localhost:8080/",
          "height": 204
        }
      },
      "source": [
        "test_df.head(5)"
      ],
      "execution_count": 14,
      "outputs": [
        {
          "output_type": "execute_result",
          "data": {
            "text/html": [
              "<div>\n",
              "<style scoped>\n",
              "    .dataframe tbody tr th:only-of-type {\n",
              "        vertical-align: middle;\n",
              "    }\n",
              "\n",
              "    .dataframe tbody tr th {\n",
              "        vertical-align: top;\n",
              "    }\n",
              "\n",
              "    .dataframe thead th {\n",
              "        text-align: right;\n",
              "    }\n",
              "</style>\n",
              "<table border=\"1\" class=\"dataframe\">\n",
              "  <thead>\n",
              "    <tr style=\"text-align: right;\">\n",
              "      <th></th>\n",
              "      <th>id</th>\n",
              "      <th>F1</th>\n",
              "      <th>F2</th>\n",
              "      <th>F3</th>\n",
              "      <th>F4</th>\n",
              "      <th>F5</th>\n",
              "      <th>F6</th>\n",
              "      <th>F7</th>\n",
              "      <th>F8</th>\n",
              "      <th>F9</th>\n",
              "      <th>F10</th>\n",
              "      <th>F11</th>\n",
              "    </tr>\n",
              "  </thead>\n",
              "  <tbody>\n",
              "    <tr>\n",
              "      <th>0</th>\n",
              "      <td>0</td>\n",
              "      <td>7</td>\n",
              "      <td>40</td>\n",
              "      <td>3</td>\n",
              "      <td>7</td>\n",
              "      <td>0</td>\n",
              "      <td>0</td>\n",
              "      <td>4</td>\n",
              "      <td>4</td>\n",
              "      <td>1</td>\n",
              "      <td>Black</td>\n",
              "      <td>Male</td>\n",
              "    </tr>\n",
              "    <tr>\n",
              "      <th>1</th>\n",
              "      <td>1</td>\n",
              "      <td>12</td>\n",
              "      <td>40</td>\n",
              "      <td>0</td>\n",
              "      <td>11</td>\n",
              "      <td>0</td>\n",
              "      <td>0</td>\n",
              "      <td>2</td>\n",
              "      <td>2</td>\n",
              "      <td>7</td>\n",
              "      <td>White</td>\n",
              "      <td>Male</td>\n",
              "    </tr>\n",
              "    <tr>\n",
              "      <th>2</th>\n",
              "      <td>2</td>\n",
              "      <td>10</td>\n",
              "      <td>40</td>\n",
              "      <td>0</td>\n",
              "      <td>7</td>\n",
              "      <td>7688</td>\n",
              "      <td>0</td>\n",
              "      <td>2</td>\n",
              "      <td>4</td>\n",
              "      <td>15</td>\n",
              "      <td>Black</td>\n",
              "      <td>Male</td>\n",
              "    </tr>\n",
              "    <tr>\n",
              "      <th>3</th>\n",
              "      <td>3</td>\n",
              "      <td>10</td>\n",
              "      <td>30</td>\n",
              "      <td>3</td>\n",
              "      <td>0</td>\n",
              "      <td>0</td>\n",
              "      <td>0</td>\n",
              "      <td>4</td>\n",
              "      <td>0</td>\n",
              "      <td>15</td>\n",
              "      <td>White</td>\n",
              "      <td>Female</td>\n",
              "    </tr>\n",
              "    <tr>\n",
              "      <th>4</th>\n",
              "      <td>4</td>\n",
              "      <td>6</td>\n",
              "      <td>30</td>\n",
              "      <td>1</td>\n",
              "      <td>8</td>\n",
              "      <td>0</td>\n",
              "      <td>0</td>\n",
              "      <td>4</td>\n",
              "      <td>4</td>\n",
              "      <td>0</td>\n",
              "      <td>White</td>\n",
              "      <td>Male</td>\n",
              "    </tr>\n",
              "  </tbody>\n",
              "</table>\n",
              "</div>"
            ],
            "text/plain": [
              "   id  F1  F2  F3  F4    F5  F6  F7  F8  F9     F10      F11\n",
              "0   0   7  40   3   7     0   0   4   4   1   Black     Male\n",
              "1   1  12  40   0  11     0   0   2   2   7   White     Male\n",
              "2   2  10  40   0   7  7688   0   2   4  15   Black     Male\n",
              "3   3  10  30   3   0     0   0   4   0  15   White   Female\n",
              "4   4   6  30   1   8     0   0   4   4   0   White     Male"
            ]
          },
          "metadata": {
            "tags": []
          },
          "execution_count": 14
        }
      ]
    },
    {
      "cell_type": "code",
      "metadata": {
        "id": "_Rdumfkmi2mE",
        "outputId": "374357e2-b4c5-4a82-f520-b3711ed5f05e",
        "colab": {
          "base_uri": "https://localhost:8080/",
          "height": 255
        }
      },
      "source": [
        "train_df.dtypes"
      ],
      "execution_count": 15,
      "outputs": [
        {
          "output_type": "execute_result",
          "data": {
            "text/plain": [
              "id         int64\n",
              "F1         int64\n",
              "F2         int64\n",
              "F3         int64\n",
              "F4         int64\n",
              "F5         int64\n",
              "F6         int64\n",
              "F7         int64\n",
              "F8         int64\n",
              "F9         int64\n",
              "F10       object\n",
              "F11       object\n",
              "credit     int64\n",
              "dtype: object"
            ]
          },
          "metadata": {
            "tags": []
          },
          "execution_count": 15
        }
      ]
    },
    {
      "cell_type": "code",
      "metadata": {
        "id": "mTacQLE4i2mK"
      },
      "source": [
        "cat_columns = train_df.select_dtypes(['object']).columns\n",
        "for col in cat_columns:\n",
        "    train_df[col] = train_df[col].astype('category')\n",
        "    test_df[col] = test_df[col].astype('category')\n",
        "train_df[cat_columns] = train_df[cat_columns].apply(lambda x: x.cat.codes)\n",
        "test_df[cat_columns] = test_df[cat_columns].apply(lambda x: x.cat.codes)"
      ],
      "execution_count": 16,
      "outputs": []
    },
    {
      "cell_type": "code",
      "metadata": {
        "id": "SqU6UIGji2mO",
        "outputId": "5026dbc4-2331-437f-aa71-c044fddd28cb",
        "colab": {
          "base_uri": "https://localhost:8080/",
          "height": 204
        }
      },
      "source": [
        "train_df.head()"
      ],
      "execution_count": 17,
      "outputs": [
        {
          "output_type": "execute_result",
          "data": {
            "text/html": [
              "<div>\n",
              "<style scoped>\n",
              "    .dataframe tbody tr th:only-of-type {\n",
              "        vertical-align: middle;\n",
              "    }\n",
              "\n",
              "    .dataframe tbody tr th {\n",
              "        vertical-align: top;\n",
              "    }\n",
              "\n",
              "    .dataframe thead th {\n",
              "        text-align: right;\n",
              "    }\n",
              "</style>\n",
              "<table border=\"1\" class=\"dataframe\">\n",
              "  <thead>\n",
              "    <tr style=\"text-align: right;\">\n",
              "      <th></th>\n",
              "      <th>id</th>\n",
              "      <th>F1</th>\n",
              "      <th>F2</th>\n",
              "      <th>F3</th>\n",
              "      <th>F4</th>\n",
              "      <th>F5</th>\n",
              "      <th>F6</th>\n",
              "      <th>F7</th>\n",
              "      <th>F8</th>\n",
              "      <th>F9</th>\n",
              "      <th>F10</th>\n",
              "      <th>F11</th>\n",
              "      <th>credit</th>\n",
              "    </tr>\n",
              "  </thead>\n",
              "  <tbody>\n",
              "    <tr>\n",
              "      <th>0</th>\n",
              "      <td>0</td>\n",
              "      <td>13</td>\n",
              "      <td>40</td>\n",
              "      <td>1</td>\n",
              "      <td>1</td>\n",
              "      <td>2174</td>\n",
              "      <td>0</td>\n",
              "      <td>4</td>\n",
              "      <td>7</td>\n",
              "      <td>9</td>\n",
              "      <td>4</td>\n",
              "      <td>1</td>\n",
              "      <td>0</td>\n",
              "    </tr>\n",
              "    <tr>\n",
              "      <th>1</th>\n",
              "      <td>1</td>\n",
              "      <td>13</td>\n",
              "      <td>13</td>\n",
              "      <td>0</td>\n",
              "      <td>4</td>\n",
              "      <td>0</td>\n",
              "      <td>0</td>\n",
              "      <td>2</td>\n",
              "      <td>6</td>\n",
              "      <td>9</td>\n",
              "      <td>4</td>\n",
              "      <td>1</td>\n",
              "      <td>0</td>\n",
              "    </tr>\n",
              "    <tr>\n",
              "      <th>2</th>\n",
              "      <td>2</td>\n",
              "      <td>9</td>\n",
              "      <td>40</td>\n",
              "      <td>1</td>\n",
              "      <td>6</td>\n",
              "      <td>0</td>\n",
              "      <td>0</td>\n",
              "      <td>0</td>\n",
              "      <td>4</td>\n",
              "      <td>11</td>\n",
              "      <td>4</td>\n",
              "      <td>1</td>\n",
              "      <td>0</td>\n",
              "    </tr>\n",
              "    <tr>\n",
              "      <th>3</th>\n",
              "      <td>3</td>\n",
              "      <td>7</td>\n",
              "      <td>40</td>\n",
              "      <td>0</td>\n",
              "      <td>6</td>\n",
              "      <td>0</td>\n",
              "      <td>0</td>\n",
              "      <td>2</td>\n",
              "      <td>4</td>\n",
              "      <td>1</td>\n",
              "      <td>2</td>\n",
              "      <td>1</td>\n",
              "      <td>0</td>\n",
              "    </tr>\n",
              "    <tr>\n",
              "      <th>4</th>\n",
              "      <td>4</td>\n",
              "      <td>13</td>\n",
              "      <td>40</td>\n",
              "      <td>5</td>\n",
              "      <td>10</td>\n",
              "      <td>0</td>\n",
              "      <td>0</td>\n",
              "      <td>2</td>\n",
              "      <td>4</td>\n",
              "      <td>9</td>\n",
              "      <td>2</td>\n",
              "      <td>0</td>\n",
              "      <td>0</td>\n",
              "    </tr>\n",
              "  </tbody>\n",
              "</table>\n",
              "</div>"
            ],
            "text/plain": [
              "   id  F1  F2  F3  F4    F5  F6  F7  F8  F9  F10  F11  credit\n",
              "0   0  13  40   1   1  2174   0   4   7   9    4    1       0\n",
              "1   1  13  13   0   4     0   0   2   6   9    4    1       0\n",
              "2   2   9  40   1   6     0   0   0   4  11    4    1       0\n",
              "3   3   7  40   0   6     0   0   2   4   1    2    1       0\n",
              "4   4  13  40   5  10     0   0   2   4   9    2    0       0"
            ]
          },
          "metadata": {
            "tags": []
          },
          "execution_count": 17
        }
      ]
    },
    {
      "cell_type": "code",
      "metadata": {
        "id": "OEgQGm8Li2mQ",
        "outputId": "c0ad41ba-c5af-447b-d46f-594eb00fc5fe",
        "colab": {
          "base_uri": "https://localhost:8080/",
          "height": 136
        }
      },
      "source": [
        "cols = ['F3','F4','F7','F8','F9','F10','F11']\n",
        "\n",
        "for col in cols:\n",
        "    print(col, train_df[col].nunique())"
      ],
      "execution_count": 18,
      "outputs": [
        {
          "output_type": "stream",
          "text": [
            "F3 6\n",
            "F4 15\n",
            "F7 7\n",
            "F8 9\n",
            "F9 16\n",
            "F10 5\n",
            "F11 2\n"
          ],
          "name": "stdout"
        }
      ]
    },
    {
      "cell_type": "code",
      "metadata": {
        "id": "ludITwQMi2mU",
        "outputId": "cfec8146-3736-4673-b540-ad242277a9a6",
        "colab": {
          "base_uri": "https://localhost:8080/",
          "height": 553
        }
      },
      "source": [
        "def confusion_matrix_plot(data, title = \"Name\", height = 8, width = 10):\n",
        "    # Get the confusion matrix\n",
        "    conf_mat = round(data.corr(method =\"spearman\"), 2)\n",
        "    # Create the heatmap\n",
        "    plt.figure(figsize = (width, height))\n",
        "    ax = sns.heatmap(conf_mat, annot=True, annot_kws={\"size\": 15}, cmap = sns.color_palette(\"PuOr_r\", 50), \n",
        "                     vmin = -1, vmax = 1)\n",
        "    # Customize the style of the heatmap\n",
        "    # Set the title, it's font size and position\n",
        "    ax.axes.set_title(title, fontsize = 30)\n",
        "    ax.title.set_position([.5, 1.03])\n",
        "    ax.set_xticklabels(labels = conf_mat.index, fontsize = 18, rotation =90)\n",
        "    ax.set_yticklabels(labels = conf_mat.index, fontsize = 18, rotation = 0)\n",
        "    # Show the plot\n",
        "    plt.show()\n",
        "    \n",
        "# Call the confusion matrix function\n",
        "confusion_matrix_plot(train_df, title = \"Credit risk\")"
      ],
      "execution_count": 19,
      "outputs": [
        {
          "output_type": "display_data",
          "data": {
            "image/png": "[encoded data removed]",
            "text/plain": [
              "<Figure size 720x576 with 2 Axes>"
            ]
          },
          "metadata": {
            "tags": [],
            "needs_background": "light"
          }
        }
      ]
    },
    {
      "cell_type": "markdown",
      "metadata": {
        "id": "__BFKMC1i2mX"
      },
      "source": [
        "    positively correlated:\n",
        "            .F5, F1, F2, F11\n",
        "    negatively correlated:\n",
        "            .F3, F7\n",
        "    Little correlation:\n",
        "            .F9, F8, F4\n",
        "            "
      ]
    },
    {
      "cell_type": "code",
      "metadata": {
        "id": "OzUBoi47i2mX"
      },
      "source": [
        "def drop_columns(cols, df):\n",
        "    for col in cols:\n",
        "        if col in df.columns:\n",
        "            df.drop(col, axis=1, inplace=True)\n",
        "    return df\n",
        "\n",
        "cols = ['id','F4', 'F8', 'F9']\n",
        "train_df = drop_columns(cols, train_df)\n",
        "test_df = drop_columns(cols, test_df)"
      ],
      "execution_count": 28,
      "outputs": []
    },
    {
      "cell_type": "code",
      "metadata": {
        "id": "YVI94qpji2ma",
        "outputId": "57cb8a46-b1d6-440f-de03-6f1a609ae09e",
        "colab": {
          "base_uri": "https://localhost:8080/",
          "height": 204
        }
      },
      "source": [
        "train_df.head()"
      ],
      "execution_count": 29,
      "outputs": [
        {
          "output_type": "execute_result",
          "data": {
            "text/html": [
              "<div>\n",
              "<style scoped>\n",
              "    .dataframe tbody tr th:only-of-type {\n",
              "        vertical-align: middle;\n",
              "    }\n",
              "\n",
              "    .dataframe tbody tr th {\n",
              "        vertical-align: top;\n",
              "    }\n",
              "\n",
              "    .dataframe thead th {\n",
              "        text-align: right;\n",
              "    }\n",
              "</style>\n",
              "<table border=\"1\" class=\"dataframe\">\n",
              "  <thead>\n",
              "    <tr style=\"text-align: right;\">\n",
              "      <th></th>\n",
              "      <th>F1</th>\n",
              "      <th>F2</th>\n",
              "      <th>F3</th>\n",
              "      <th>F5</th>\n",
              "      <th>F6</th>\n",
              "      <th>F7</th>\n",
              "      <th>F10</th>\n",
              "      <th>F11</th>\n",
              "      <th>credit</th>\n",
              "    </tr>\n",
              "  </thead>\n",
              "  <tbody>\n",
              "    <tr>\n",
              "      <th>0</th>\n",
              "      <td>13</td>\n",
              "      <td>40</td>\n",
              "      <td>1</td>\n",
              "      <td>2174</td>\n",
              "      <td>0</td>\n",
              "      <td>4</td>\n",
              "      <td>4</td>\n",
              "      <td>1</td>\n",
              "      <td>0</td>\n",
              "    </tr>\n",
              "    <tr>\n",
              "      <th>1</th>\n",
              "      <td>13</td>\n",
              "      <td>13</td>\n",
              "      <td>0</td>\n",
              "      <td>0</td>\n",
              "      <td>0</td>\n",
              "      <td>2</td>\n",
              "      <td>4</td>\n",
              "      <td>1</td>\n",
              "      <td>0</td>\n",
              "    </tr>\n",
              "    <tr>\n",
              "      <th>2</th>\n",
              "      <td>9</td>\n",
              "      <td>40</td>\n",
              "      <td>1</td>\n",
              "      <td>0</td>\n",
              "      <td>0</td>\n",
              "      <td>0</td>\n",
              "      <td>4</td>\n",
              "      <td>1</td>\n",
              "      <td>0</td>\n",
              "    </tr>\n",
              "    <tr>\n",
              "      <th>3</th>\n",
              "      <td>7</td>\n",
              "      <td>40</td>\n",
              "      <td>0</td>\n",
              "      <td>0</td>\n",
              "      <td>0</td>\n",
              "      <td>2</td>\n",
              "      <td>2</td>\n",
              "      <td>1</td>\n",
              "      <td>0</td>\n",
              "    </tr>\n",
              "    <tr>\n",
              "      <th>4</th>\n",
              "      <td>13</td>\n",
              "      <td>40</td>\n",
              "      <td>5</td>\n",
              "      <td>0</td>\n",
              "      <td>0</td>\n",
              "      <td>2</td>\n",
              "      <td>2</td>\n",
              "      <td>0</td>\n",
              "      <td>0</td>\n",
              "    </tr>\n",
              "  </tbody>\n",
              "</table>\n",
              "</div>"
            ],
            "text/plain": [
              "   F1  F2  F3    F5  F6  F7  F10  F11  credit\n",
              "0  13  40   1  2174   0   4    4    1       0\n",
              "1  13  13   0     0   0   2    4    1       0\n",
              "2   9  40   1     0   0   0    4    1       0\n",
              "3   7  40   0     0   0   2    2    1       0\n",
              "4  13  40   5     0   0   2    2    0       0"
            ]
          },
          "metadata": {
            "tags": []
          },
          "execution_count": 29
        }
      ]
    },
    {
      "cell_type": "code",
      "metadata": {
        "id": "C-cQj8hEi2md"
      },
      "source": [
        "def cat_to_onehot(cols, df):\n",
        "    for col in cols:\n",
        "        dummies = pd.get_dummies(df[col],prefix=col)\n",
        "        df = pd.concat([df, dummies],axis=1)\n",
        "        df.drop(col, axis=1, inplace=True)\n",
        "    return df\n",
        "\n",
        "cols = ['F3','F7','F10','F11']\n",
        "train_df_f = cat_to_onehot(cols, train_df)\n",
        "test_df_f = cat_to_onehot(cols, test_df)"
      ],
      "execution_count": 30,
      "outputs": []
    },
    {
      "cell_type": "code",
      "metadata": {
        "id": "ieYkv7cri2mf",
        "outputId": "72ddd99f-9f6d-416d-baec-9b989ef648a6",
        "colab": {
          "base_uri": "https://localhost:8080/",
          "height": 34
        }
      },
      "source": [
        "train_df_f.shape"
      ],
      "execution_count": 31,
      "outputs": [
        {
          "output_type": "execute_result",
          "data": {
            "text/plain": [
              "(32561, 25)"
            ]
          },
          "metadata": {
            "tags": []
          },
          "execution_count": 31
        }
      ]
    },
    {
      "cell_type": "code",
      "metadata": {
        "id": "qhhlBIxui2mq"
      },
      "source": [
        "train_label = train_df_f['credit'].values\n",
        "train_sc = train_df_f.drop('credit',axis=1)\n",
        "test_sc = test_df_f\n",
        "scaler = MinMaxScaler()\n",
        "\n",
        "train_sc[train_sc.columns] = scaler.fit_transform(train_sc)\n",
        "test_sc[test_sc.columns] = scaler.fit_transform(test_sc)"
      ],
      "execution_count": 32,
      "outputs": []
    },
    {
      "cell_type": "code",
      "metadata": {
        "id": "yBSZnM1ei2ms"
      },
      "source": [
        "# applying standard scaler\n",
        "from sklearn.preprocessing import StandardScaler\n",
        "\n",
        "scaler = StandardScaler()\n",
        "scaler.fit(train_sc)\n",
        "\n",
        "train_sc[train_sc.columns] = scaler.transform(train_sc)  \n",
        "test_sc[test_sc.columns] = scaler.transform(test_sc)"
      ],
      "execution_count": 33,
      "outputs": []
    },
    {
      "cell_type": "code",
      "metadata": {
        "scrolled": true,
        "id": "uODHrXX5i2mv",
        "outputId": "c8d181cc-076b-4473-caf8-c1d3fff46b6a",
        "colab": {
          "base_uri": "https://localhost:8080/",
          "height": 224
        }
      },
      "source": [
        "train_sc.head()"
      ],
      "execution_count": 34,
      "outputs": [
        {
          "output_type": "execute_result",
          "data": {
            "text/html": [
              "<div>\n",
              "<style scoped>\n",
              "    .dataframe tbody tr th:only-of-type {\n",
              "        vertical-align: middle;\n",
              "    }\n",
              "\n",
              "    .dataframe tbody tr th {\n",
              "        vertical-align: top;\n",
              "    }\n",
              "\n",
              "    .dataframe thead th {\n",
              "        text-align: right;\n",
              "    }\n",
              "</style>\n",
              "<table border=\"1\" class=\"dataframe\">\n",
              "  <thead>\n",
              "    <tr style=\"text-align: right;\">\n",
              "      <th></th>\n",
              "      <th>F1</th>\n",
              "      <th>F2</th>\n",
              "      <th>F5</th>\n",
              "      <th>F6</th>\n",
              "      <th>F3_0</th>\n",
              "      <th>F3_1</th>\n",
              "      <th>F3_2</th>\n",
              "      <th>F3_3</th>\n",
              "      <th>F3_4</th>\n",
              "      <th>F3_5</th>\n",
              "      <th>F7_0</th>\n",
              "      <th>F7_1</th>\n",
              "      <th>F7_2</th>\n",
              "      <th>F7_3</th>\n",
              "      <th>F7_4</th>\n",
              "      <th>F7_5</th>\n",
              "      <th>F7_6</th>\n",
              "      <th>F10_0</th>\n",
              "      <th>F10_1</th>\n",
              "      <th>F10_2</th>\n",
              "      <th>F10_3</th>\n",
              "      <th>F10_4</th>\n",
              "      <th>F11_0</th>\n",
              "      <th>F11_1</th>\n",
              "    </tr>\n",
              "  </thead>\n",
              "  <tbody>\n",
              "    <tr>\n",
              "      <th>0</th>\n",
              "      <td>1.134739</td>\n",
              "      <td>-0.035429</td>\n",
              "      <td>0.148453</td>\n",
              "      <td>-0.21666</td>\n",
              "      <td>-0.825333</td>\n",
              "      <td>1.708991</td>\n",
              "      <td>-0.17625</td>\n",
              "      <td>-0.429346</td>\n",
              "      <td>-0.344032</td>\n",
              "      <td>-0.224927</td>\n",
              "      <td>-0.397508</td>\n",
              "      <td>-0.026587</td>\n",
              "      <td>-0.922841</td>\n",
              "      <td>-0.114037</td>\n",
              "      <td>1.431058</td>\n",
              "      <td>-0.180285</td>\n",
              "      <td>-0.177358</td>\n",
              "      <td>-0.098201</td>\n",
              "      <td>-0.181552</td>\n",
              "      <td>-0.325768</td>\n",
              "      <td>-0.091612</td>\n",
              "      <td>0.413020</td>\n",
              "      <td>-0.703071</td>\n",
              "      <td>0.703071</td>\n",
              "    </tr>\n",
              "    <tr>\n",
              "      <th>1</th>\n",
              "      <td>1.134739</td>\n",
              "      <td>-2.222153</td>\n",
              "      <td>-0.145920</td>\n",
              "      <td>-0.21666</td>\n",
              "      <td>1.211632</td>\n",
              "      <td>-0.585141</td>\n",
              "      <td>-0.17625</td>\n",
              "      <td>-0.429346</td>\n",
              "      <td>-0.344032</td>\n",
              "      <td>-0.224927</td>\n",
              "      <td>-0.397508</td>\n",
              "      <td>-0.026587</td>\n",
              "      <td>1.083611</td>\n",
              "      <td>-0.114037</td>\n",
              "      <td>-0.698784</td>\n",
              "      <td>-0.180285</td>\n",
              "      <td>-0.177358</td>\n",
              "      <td>-0.098201</td>\n",
              "      <td>-0.181552</td>\n",
              "      <td>-0.325768</td>\n",
              "      <td>-0.091612</td>\n",
              "      <td>0.413020</td>\n",
              "      <td>-0.703071</td>\n",
              "      <td>0.703071</td>\n",
              "    </tr>\n",
              "    <tr>\n",
              "      <th>2</th>\n",
              "      <td>-0.420060</td>\n",
              "      <td>-0.035429</td>\n",
              "      <td>-0.145920</td>\n",
              "      <td>-0.21666</td>\n",
              "      <td>-0.825333</td>\n",
              "      <td>1.708991</td>\n",
              "      <td>-0.17625</td>\n",
              "      <td>-0.429346</td>\n",
              "      <td>-0.344032</td>\n",
              "      <td>-0.224927</td>\n",
              "      <td>2.515672</td>\n",
              "      <td>-0.026587</td>\n",
              "      <td>-0.922841</td>\n",
              "      <td>-0.114037</td>\n",
              "      <td>-0.698784</td>\n",
              "      <td>-0.180285</td>\n",
              "      <td>-0.177358</td>\n",
              "      <td>-0.098201</td>\n",
              "      <td>-0.181552</td>\n",
              "      <td>-0.325768</td>\n",
              "      <td>-0.091612</td>\n",
              "      <td>0.413020</td>\n",
              "      <td>-0.703071</td>\n",
              "      <td>0.703071</td>\n",
              "    </tr>\n",
              "    <tr>\n",
              "      <th>3</th>\n",
              "      <td>-1.197459</td>\n",
              "      <td>-0.035429</td>\n",
              "      <td>-0.145920</td>\n",
              "      <td>-0.21666</td>\n",
              "      <td>1.211632</td>\n",
              "      <td>-0.585141</td>\n",
              "      <td>-0.17625</td>\n",
              "      <td>-0.429346</td>\n",
              "      <td>-0.344032</td>\n",
              "      <td>-0.224927</td>\n",
              "      <td>-0.397508</td>\n",
              "      <td>-0.026587</td>\n",
              "      <td>1.083611</td>\n",
              "      <td>-0.114037</td>\n",
              "      <td>-0.698784</td>\n",
              "      <td>-0.180285</td>\n",
              "      <td>-0.177358</td>\n",
              "      <td>-0.098201</td>\n",
              "      <td>-0.181552</td>\n",
              "      <td>3.069667</td>\n",
              "      <td>-0.091612</td>\n",
              "      <td>-2.421192</td>\n",
              "      <td>-0.703071</td>\n",
              "      <td>0.703071</td>\n",
              "    </tr>\n",
              "    <tr>\n",
              "      <th>4</th>\n",
              "      <td>1.134739</td>\n",
              "      <td>-0.035429</td>\n",
              "      <td>-0.145920</td>\n",
              "      <td>-0.21666</td>\n",
              "      <td>-0.825333</td>\n",
              "      <td>-0.585141</td>\n",
              "      <td>-0.17625</td>\n",
              "      <td>-0.429346</td>\n",
              "      <td>-0.344032</td>\n",
              "      <td>4.445891</td>\n",
              "      <td>-0.397508</td>\n",
              "      <td>-0.026587</td>\n",
              "      <td>1.083611</td>\n",
              "      <td>-0.114037</td>\n",
              "      <td>-0.698784</td>\n",
              "      <td>-0.180285</td>\n",
              "      <td>-0.177358</td>\n",
              "      <td>-0.098201</td>\n",
              "      <td>-0.181552</td>\n",
              "      <td>3.069667</td>\n",
              "      <td>-0.091612</td>\n",
              "      <td>-2.421192</td>\n",
              "      <td>1.422331</td>\n",
              "      <td>-1.422331</td>\n",
              "    </tr>\n",
              "  </tbody>\n",
              "</table>\n",
              "</div>"
            ],
            "text/plain": [
              "         F1        F2        F5  ...     F10_4     F11_0     F11_1\n",
              "0  1.134739 -0.035429  0.148453  ...  0.413020 -0.703071  0.703071\n",
              "1  1.134739 -2.222153 -0.145920  ...  0.413020 -0.703071  0.703071\n",
              "2 -0.420060 -0.035429 -0.145920  ...  0.413020 -0.703071  0.703071\n",
              "3 -1.197459 -0.035429 -0.145920  ... -2.421192 -0.703071  0.703071\n",
              "4  1.134739 -0.035429 -0.145920  ... -2.421192  1.422331 -1.422331\n",
              "\n",
              "[5 rows x 24 columns]"
            ]
          },
          "metadata": {
            "tags": []
          },
          "execution_count": 34
        }
      ]
    },
    {
      "cell_type": "code",
      "metadata": {
        "id": "BkGi3zPoi2my"
      },
      "source": [
        "def evaluation(classifier, y_test, y_pred, target_names, title):  \n",
        "    print(title)\n",
        "    print('f1 score: ',f1_score(y_test,y_pred))\n",
        "    print(classification_report(y_test,y_pred, target_names=target_names))\n",
        "    return f1_score(y_test,y_pred)"
      ],
      "execution_count": 35,
      "outputs": []
    },
    {
      "cell_type": "code",
      "metadata": {
        "id": "3fyxd8bpi2m0"
      },
      "source": [
        "from sklearn.metrics import fbeta_score, make_scorer\n",
        "\n",
        "def grid_search_cv(classifier, param_grid, n_fold,X,y):\n",
        "    # instantiate the grid\n",
        "    grid = GridSearchCV(classifier, param_grid, cv=n_fold, scoring='f1_micro',verbose = 1)\n",
        "    # fit the grid with data\n",
        "    grid.fit(X, y)\n",
        "    print(grid.cv_results_.keys())\n",
        "    # view the complete results (list of named tuples)\n",
        "    grid_result = pd.DataFrame(grid.cv_results_)\n",
        "    print(\"best estimator: \",grid.best_estimator_)\n",
        "    print(\"best score:\", grid.best_score_)\n",
        "    return grid_result, grid.best_estimator_"
      ],
      "execution_count": null,
      "outputs": []
    },
    {
      "cell_type": "code",
      "metadata": {
        "id": "-Uv4PtN0i2m2"
      },
      "source": [
        "X = train_sc\n",
        "y = train_label"
      ],
      "execution_count": null,
      "outputs": []
    },
    {
      "cell_type": "code",
      "metadata": {
        "id": "GF3nDcYgi2m4",
        "outputId": "b6af74c3-6f08-41d5-df2c-837fe79a3c3a",
        "colab": {
          "base_uri": "https://localhost:8080/",
          "height": 207
        }
      },
      "source": [
        "from sklearn.neighbors import KNeighborsClassifier  \n",
        "\n",
        "# defining a python dictionary to save the best estimators\n",
        "estimators = {}\n",
        "knn = KNeighborsClassifier()  \n",
        "# define the parameter values that should be searched\n",
        "# k_range = range(1, 31) [neighbour number list]\n",
        "k_range = [10,50,100,200,300,350]\n",
        "print(k_range)\n",
        "# create a parameter grid: map the parameter names to the values that should be searched\n",
        "# simply a python dictionary\n",
        "# key: parameter name\n",
        "# value: list of values that should be searched for that parameter\n",
        "# single key-value pair for param_grid\n",
        "param_grid = dict(n_neighbors=k_range)\n",
        "print(param_grid)\n",
        "#sending classifier, parameters, training features and labels to the grid_search function\n",
        "grid_result,best_est  = grid_search_cv(knn, param_grid, 5, X,y)\n",
        "#save best estimator of knn to estimators dictionary\n",
        "estimators['knn'] = best_est"
      ],
      "execution_count": null,
      "outputs": [
        {
          "output_type": "stream",
          "text": [
            "[10, 50, 100, 200, 300, 350]\n",
            "{'n_neighbors': [10, 50, 100, 200, 300, 350]}\n",
            "Fitting 5 folds for each of 6 candidates, totalling 30 fits\n"
          ],
          "name": "stdout"
        },
        {
          "output_type": "stream",
          "text": [
            "[Parallel(n_jobs=1)]: Using backend SequentialBackend with 1 concurrent workers.\n",
            "[Parallel(n_jobs=1)]: Done  30 out of  30 | elapsed:  3.5min finished\n"
          ],
          "name": "stderr"
        },
        {
          "output_type": "stream",
          "text": [
            "dict_keys(['mean_fit_time', 'std_fit_time', 'mean_score_time', 'std_score_time', 'param_n_neighbors', 'params', 'split0_test_score', 'split1_test_score', 'split2_test_score', 'split3_test_score', 'split4_test_score', 'mean_test_score', 'std_test_score', 'rank_test_score'])\n",
            "best estimator:  KNeighborsClassifier(algorithm='auto', leaf_size=30, metric='minkowski',\n",
            "                     metric_params=None, n_jobs=None, n_neighbors=50, p=2,\n",
            "                     weights='uniform')\n",
            "best score: 0.8355088867813418\n"
          ],
          "name": "stdout"
        }
      ]
    },
    {
      "cell_type": "code",
      "metadata": {
        "id": "8y4ERe_fi2m_",
        "outputId": "7236eca8-f705-432a-b797-ac72b8c33368",
        "colab": {
          "base_uri": "https://localhost:8080/",
          "height": 207
        }
      },
      "source": [
        "##using svm\n",
        "classifier_svm = SVC()\n",
        "param_grid = {'C': [.1, 1, 100, 1000],\n",
        "                  'gamma': [0.001, 0.01, .1],'kernel': ['rbf', 'sigmoid']}\n",
        "print(param_grid)\n",
        "grid_result, best_est  = grid_search_cv(classifier_svm, param_grid, 5, X,y)\n",
        "estimators['svm'] = best_est"
      ],
      "execution_count": null,
      "outputs": [
        {
          "output_type": "stream",
          "text": [
            "{'C': [0.1, 1, 100, 1000], 'gamma': [0.001, 0.01, 0.1], 'kernel': ['rbf', 'sigmoid']}\n",
            "Fitting 5 folds for each of 24 candidates, totalling 120 fits\n"
          ],
          "name": "stdout"
        },
        {
          "output_type": "stream",
          "text": [
            "[Parallel(n_jobs=1)]: Using backend SequentialBackend with 1 concurrent workers.\n",
            "[Parallel(n_jobs=1)]: Done 120 out of 120 | elapsed: 101.3min finished\n"
          ],
          "name": "stderr"
        },
        {
          "output_type": "stream",
          "text": [
            "dict_keys(['mean_fit_time', 'std_fit_time', 'mean_score_time', 'std_score_time', 'param_C', 'param_gamma', 'param_kernel', 'params', 'split0_test_score', 'split1_test_score', 'split2_test_score', 'split3_test_score', 'split4_test_score', 'mean_test_score', 'std_test_score', 'rank_test_score'])\n",
            "best estimator:  SVC(C=1000, break_ties=False, cache_size=200, class_weight=None, coef0=0.0,\n",
            "    decision_function_shape='ovr', degree=3, gamma=0.01, kernel='rbf',\n",
            "    max_iter=-1, probability=False, random_state=None, shrinking=True,\n",
            "    tol=0.001, verbose=False)\n",
            "best score: 0.8457052866484004\n"
          ],
          "name": "stdout"
        }
      ]
    },
    {
      "cell_type": "code",
      "metadata": {
        "id": "wq2IFtB9i2nC",
        "outputId": "15d86d46-3b7f-4905-ba15-6e5b60a837b2",
        "colab": {
          "base_uri": "https://localhost:8080/",
          "height": 275
        }
      },
      "source": [
        "#import PipeLine, SelectKBest transformer, and RandomForest estimator classes\n",
        "from sklearn.pipeline import Pipeline\n",
        "from sklearn.feature_selection import SelectKBest\n",
        "from sklearn.ensemble import RandomForestClassifier\n",
        "\n",
        "#initialize randomforest\n",
        "clf = RandomForestClassifier(n_jobs=-1,max_features= 'sqrt' ,n_estimators=50, oob_score = True)\n",
        "\n",
        "#Create the parameter grid, entering the values to use for each parameter selected in the RandomForest estimator\n",
        "param_grid = { \n",
        "    'n_estimators': [20,50,100],\n",
        "    'max_features': ['auto', 'sqrt', 'log2']\n",
        "}\n",
        "print(param_grid)\n",
        "grid_result, best_est  = grid_search_cv(clf, param_grid, 5, X,y)\n",
        "estimators['clf'] = best_est"
      ],
      "execution_count": null,
      "outputs": [
        {
          "output_type": "stream",
          "text": [
            "{'n_estimators': [20, 50, 100], 'max_features': ['auto', 'sqrt', 'log2']}\n",
            "Fitting 5 folds for each of 9 candidates, totalling 45 fits\n"
          ],
          "name": "stdout"
        },
        {
          "output_type": "stream",
          "text": [
            "[Parallel(n_jobs=1)]: Using backend SequentialBackend with 1 concurrent workers.\n",
            "[Parallel(n_jobs=1)]: Done  45 out of  45 | elapsed:  1.4min finished\n"
          ],
          "name": "stderr"
        },
        {
          "output_type": "stream",
          "text": [
            "dict_keys(['mean_fit_time', 'std_fit_time', 'mean_score_time', 'std_score_time', 'param_max_features', 'param_n_estimators', 'params', 'split0_test_score', 'split1_test_score', 'split2_test_score', 'split3_test_score', 'split4_test_score', 'mean_test_score', 'std_test_score', 'rank_test_score'])\n",
            "best estimator:  RandomForestClassifier(bootstrap=True, ccp_alpha=0.0, class_weight=None,\n",
            "                       criterion='gini', max_depth=None, max_features='auto',\n",
            "                       max_leaf_nodes=None, max_samples=None,\n",
            "                       min_impurity_decrease=0.0, min_impurity_split=None,\n",
            "                       min_samples_leaf=1, min_samples_split=2,\n",
            "                       min_weight_fraction_leaf=0.0, n_estimators=20, n_jobs=-1,\n",
            "                       oob_score=True, random_state=None, verbose=0,\n",
            "                       warm_start=False)\n",
            "best score: 0.8052876198085779\n"
          ],
          "name": "stdout"
        }
      ]
    },
    {
      "cell_type": "code",
      "metadata": {
        "id": "Itw3N2spi2nI",
        "outputId": "66d90656-5479-426b-d698-bebe2adb8eb3",
        "colab": {
          "base_uri": "https://localhost:8080/",
          "height": 615
        }
      },
      "source": [
        "from sklearn.feature_selection import RFECV\n",
        "from sklearn.tree import DecisionTreeClassifier\n",
        "scl = ('scl', StandardScaler())\n",
        "rdm = ('rdm', RFECV(estimator=DecisionTreeClassifier(random_state=42), scoring='f1_micro'))\n",
        "clf = ('clf', DecisionTreeClassifier(random_state=42))\n",
        "\n",
        "param_grid = [{'rdm__step': [0.02],\n",
        "               'clf__criterion': ['gini', 'entropy']}]\n",
        "\n",
        "\n",
        "pipe = Pipeline([scl, rdm, clf])\n",
        "print(param_grid)\n",
        "grid_result, best_est  = grid_search_cv(pipe, param_grid, 5, X_sm,y_sm.ravel())\n",
        "estimators['ds'] = best_est"
      ],
      "execution_count": null,
      "outputs": [
        {
          "output_type": "stream",
          "text": [
            "[{'rdm__step': [0.02], 'clf__criterion': ['gini', 'entropy']}]\n",
            "Fitting 5 folds for each of 2 candidates, totalling 10 fits\n"
          ],
          "name": "stdout"
        },
        {
          "output_type": "stream",
          "text": [
            "[Parallel(n_jobs=1)]: Using backend SequentialBackend with 1 concurrent workers.\n",
            "[Parallel(n_jobs=1)]: Done  10 out of  10 | elapsed:  2.4min finished\n"
          ],
          "name": "stderr"
        },
        {
          "output_type": "stream",
          "text": [
            "dict_keys(['mean_fit_time', 'std_fit_time', 'mean_score_time', 'std_score_time', 'param_clf__criterion', 'param_rdm__step', 'params', 'split0_test_score', 'split1_test_score', 'split2_test_score', 'split3_test_score', 'split4_test_score', 'mean_test_score', 'std_test_score', 'rank_test_score'])\n",
            "best estimator:  Pipeline(memory=None,\n",
            "         steps=[('scl',\n",
            "                 StandardScaler(copy=True, with_mean=True, with_std=True)),\n",
            "                ('rdm',\n",
            "                 RFECV(cv=None,\n",
            "                       estimator=DecisionTreeClassifier(ccp_alpha=0.0,\n",
            "                                                        class_weight=None,\n",
            "                                                        criterion='gini',\n",
            "                                                        max_depth=None,\n",
            "                                                        max_features=None,\n",
            "                                                        max_leaf_nodes=None,\n",
            "                                                        min_impurity_decrease=0.0,\n",
            "                                                        min_impurity_split=None,\n",
            "                                                        min_samples_leaf=1,\n",
            "                                                        min_samples_split=2,\n",
            "                                                        min_weight_fra...\n",
            "                       scoring='f1_micro', step=0.02, verbose=0)),\n",
            "                ('clf',\n",
            "                 DecisionTreeClassifier(ccp_alpha=0.0, class_weight=None,\n",
            "                                        criterion='gini', max_depth=None,\n",
            "                                        max_features=None, max_leaf_nodes=None,\n",
            "                                        min_impurity_decrease=0.0,\n",
            "                                        min_impurity_split=None,\n",
            "                                        min_samples_leaf=1, min_samples_split=2,\n",
            "                                        min_weight_fraction_leaf=0.0,\n",
            "                                        presort='deprecated', random_state=42,\n",
            "                                        splitter='best'))],\n",
            "         verbose=False)\n",
            "best score: 0.5225525889967638\n"
          ],
          "name": "stdout"
        }
      ]
    },
    {
      "cell_type": "code",
      "metadata": {
        "id": "0hv0wmkmi2nL"
      },
      "source": [
        "import pickle\n",
        "\n",
        "g_path = '/content/drive/My Drive/Colab Notebooks/data/'\n",
        "with open(g_path+'estimators.pickle', 'wb') as handle:\n",
        "          pickle.dump(estimators, handle, protocol=pickle.HIGHEST_PROTOCOL)"
      ],
      "execution_count": null,
      "outputs": []
    },
    {
      "cell_type": "code",
      "metadata": {
        "id": "Cvcgg3I-i2nN"
      },
      "source": [
        "max_f1 =0\n",
        "best_est = 0\n",
        "est_name = 0\n",
        "# Split the the whole data into test and train\n",
        "X_train, X_test, y_train, y_test = train_test_split(X, y,\n",
        "                                                    test_size=0.20, random_state=1, stratify=y)\n",
        "###iterate over estimator dictionary:[name(eg. 'knn','svm'), desc(eg. estimator description)]\n",
        "for name, desc in estimators.items():\n",
        "    estimators[name].fit(X_train,y_train)\n",
        "    y_pred = estimators[name].predict(X_test)\n",
        "    f1 = evaluation(estimators[name], y_test, y_pred,['-1','1'], 'Classification report ['+ name+'] :')\n",
        "    if f1>max_f1:\n",
        "      max_f1=f1\n",
        "      best_est = estimators[name]\n",
        "      est_name = name"
      ],
      "execution_count": null,
      "outputs": []
    },
    {
      "cell_type": "code",
      "metadata": {
        "id": "YgRh4Aaqi2nP"
      },
      "source": [
        "###now fit on whole train data \n",
        "best_est.fit(train_sc,train_label)\n",
        "###predict on the given test data file \n",
        "y_pred = best_est.predict(test_sc)\n",
        "###save the predicted results in text files. These are the files to upload in submission\n",
        "with open(os.path.join(path,est_name+'.txt'), 'wb') as fout:  # Note 'wb' instead of 'w'\n",
        "    np.savetxt(fout, y_pred, fmt='%d')\n",
        "    fout.seek(NEWLINE_SIZE_IN_BYTES, 2)\n",
        "    fout.truncate()"
      ],
      "execution_count": null,
      "outputs": []
    },
    {
      "cell_type": "code",
      "metadata": {
        "id": "POjCY2d3i2nV"
      },
      "source": [
        ""
      ],
      "execution_count": null,
      "outputs": []
    }
  ]
}